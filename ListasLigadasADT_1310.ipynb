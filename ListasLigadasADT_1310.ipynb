{
  "nbformat": 4,
  "nbformat_minor": 0,
  "metadata": {
    "colab": {
      "name": "ListasLigadasADT_1310.ipynb",
      "provenance": [],
      "collapsed_sections": []
    },
    "kernelspec": {
      "name": "python3",
      "display_name": "Python 3"
    },
    "language_info": {
      "name": "python"
    }
  },
  "cells": [
    {
      "cell_type": "markdown",
      "metadata": {
        "id": "Pv8Mj3Ts0kb8"
      },
      "source": [
        "#Ejercicios con la clase nodo\n",
        "\n",
        "- Crear un nodo\n",
        "    - Imprimir el valor del nodo\n",
        "- Crear dos nodos\n",
        "    - Imprimir el valor del primero\n",
        "    - Imprimir el valor del segundo\n",
        "    - Transversional\n",
        "- Lo mismo pero con 4 nodos\n",
        "\n",
        "#todo antes de ir a la estructura formal de lista ligada"
      ]
    },
    {
      "cell_type": "code",
      "metadata": {
        "id": "2NLqIk6H1JNI"
      },
      "source": [
        "class Nodo:\n",
        "    def __init__( self, value, siguiente = None ):\n",
        "        self.data = value\n",
        "        self.next = siguiente"
      ],
      "execution_count": 1,
      "outputs": []
    },
    {
      "cell_type": "code",
      "metadata": {
        "colab": {
          "base_uri": "https://localhost:8080/"
        },
        "id": "wEaejM_Q1tvm",
        "outputId": "f2f82508-2b26-42ef-beaa-0e4ac6ef45ed"
      },
      "source": [
        "head = Nodo(10)\n",
        "print( head.data )"
      ],
      "execution_count": 2,
      "outputs": [
        {
          "output_type": "stream",
          "name": "stdout",
          "text": [
            "10\n"
          ]
        }
      ]
    },
    {
      "cell_type": "code",
      "metadata": {
        "colab": {
          "base_uri": "https://localhost:8080/"
        },
        "id": "OySC5jx12efw",
        "outputId": "51460c93-bf0a-4b19-c08a-5952db2ac3f0"
      },
      "source": [
        "head = Nodo(10)\n",
        "head.next = Nodo(20)\n",
        "print(f\"Primero = { head.data }\")\n",
        "print(f\"Segundo = { head.next.data }\")\n",
        "\n",
        "#Lo mismo pero ahorrando codigo\n",
        "\n",
        "head = Nodo (10, Nodo(20))\n",
        "print(f\"Primero = { head.data }\")\n",
        "print(f\"Segundo = { head.next.data }\")\n",
        "\n",
        "# transversal\n",
        "\n",
        "curr_node = head\n",
        "while curr_node != None:\n",
        "    print(f\" | {curr_node.data} | --->\", end=\"\")\n",
        "    curr_node = curr_node.next\n",
        "    print(\"\")\n",
        "\n",
        "curr_node = Nodo(25)"
      ],
      "execution_count": 5,
      "outputs": [
        {
          "output_type": "stream",
          "name": "stdout",
          "text": [
            "Primero = 10\n",
            "Segundo = 20\n",
            "Primero = 10\n",
            "Segundo = 20\n",
            " | 10 | --->\n",
            " | 20 | --->\n"
          ]
        }
      ]
    },
    {
      "cell_type": "code",
      "metadata": {
        "colab": {
          "base_uri": "https://localhost:8080/"
        },
        "id": "IPdCbrIE655D",
        "outputId": "4f388869-e51a-411b-d145-3bb84aabd796"
      },
      "source": [
        "head = Nodo(10,Nodo(20, Nodo(30,Nodo(40))))\n",
        "\n",
        "curr_node = head\n",
        "while curr_node != None:\n",
        "    print(f\" | {curr_node.data} | --->\", end=\"\")\n",
        "    curr_node = curr_node.next\n",
        "print(\"\")\n",
        "#imprimir el primero\n",
        "print(head.data)\n",
        "#imprimir el ultimo\n",
        "curr_node = head\n",
        "while curr_node.next != None:\n",
        "    curr_node = curr_node.next\n",
        "print(curr_node.data)\n",
        "\n",
        "curr_node = head\n",
        "while curr_node.data != 20:\n",
        "    curr_node = curr_node.next\n",
        "print(curr_node.data)\n",
        "\n",
        "\n"
      ],
      "execution_count": 6,
      "outputs": [
        {
          "output_type": "stream",
          "name": "stdout",
          "text": [
            " | 10 | ---> | 20 | ---> | 30 | ---> | 40 | --->\n",
            "10\n",
            "40\n",
            "20\n"
          ]
        }
      ]
    },
    {
      "cell_type": "code",
      "metadata": {
        "colab": {
          "base_uri": "https://localhost:8080/"
        },
        "id": "-HTcYrC_Z2r_",
        "outputId": "de2b1658-80aa-414e-c842-cf4581166a6f"
      },
      "source": [
        "head = Nodo(10)\n",
        "head.next = Nodo(20)\n",
        "print(f\"Primero = { head.data }\")\n",
        "print(f\"Segundo = { head.next.data }\")\n",
        "\n",
        "#Lo mismo pero ahorrando codigo\n",
        "\n",
        "head = Nodo (10, Nodo(20))\n",
        "print(f\"Primero = { head.data }\")\n",
        "print(f\"Segundo = { head.next.data }\")\n",
        "\n",
        "# transversal\n",
        "\n",
        "curr_node = head\n",
        "while curr_node != None:\n",
        "    print(f\" | {curr_node.data} | --->\", end=\"\")\n",
        "    curr_node = curr_node.next\n",
        "    print(\"\")\n",
        "\n",
        "# Nodo 25\n",
        "curr_node = Nodo(25)\n",
        "curr_node.next = Nodo(25,curr_node.next)\n",
        "print(\" Despues de insertar 25\")\n",
        "\n",
        "# transversal\n",
        "curr_node = head\n",
        "while curr_node != None:\n",
        "    print(f\" | {curr_node.data} | --->\", end=\"\")\n",
        "    curr_node = curr_node.next\n",
        "    print(\"\")"
      ],
      "execution_count": 8,
      "outputs": [
        {
          "output_type": "stream",
          "name": "stdout",
          "text": [
            "Primero = 10\n",
            "Segundo = 20\n",
            "Primero = 10\n",
            "Segundo = 20\n",
            " | 10 | --->\n",
            " | 20 | --->\n",
            " Despues de insertar 25\n",
            " | 10 | --->\n",
            " | 20 | --->\n"
          ]
        }
      ]
    },
    {
      "cell_type": "code",
      "metadata": {
        "id": "qVddO8O-c5lM"
      },
      "source": [
        "class Nodo:\n",
        "  def __init__(self,value,siguiente = None):\n",
        "    self.data= value\n",
        "    self.next= siguiente\n",
        "\n",
        "class LinkedList:\n",
        "  def __init__(self):\n",
        "    self.head = None\n",
        "\n",
        "  def is_empty (self):\n",
        "    return self.head == None\n",
        "\n",
        "  def get_tail(self):\n",
        "    if self.is_empty():\n",
        "      return None\n",
        "    else:\n",
        "      curr_node = self.head\n",
        "      while curr_node.next != None:\n",
        "        curr_node = curr_node.next\n",
        "      return curr_node\n",
        "\n",
        "  def append( self, value):\n",
        "    if self.head == None:\n",
        "        self.head = Nodo(value)\n",
        "    else:\n",
        "      curr_node = self.head\n",
        "      while curr_node.next != None:\n",
        "        curr_node = curr_node.next\n",
        "      curr_node.next = Nodo(value)\n",
        "\n",
        "  def transversal (self):\n",
        "    curr_node = self.head\n",
        "    while curr_node != None:\n",
        "      print(f\"| {curr_node.data} | -->\", end=\"\")\n",
        "      curr_node = curr_node.next\n",
        "    print (\"\")\n",
        "\n",
        "  def remove ( self , value):\n",
        "    if self.head == None:\n",
        "      print(\"Lista vacia, no se pudo remover nada\")\n",
        "    else:\n",
        "      curr_node = self.head\n",
        "      aux = None\n",
        "      while curr_node.data != value:\n",
        "        aux = curr_node\n",
        "        curr_node = curr_node.next\n",
        "        \n",
        "      if curr_node != None:\n",
        "        aux.next = curr_node.next\n",
        "        curr_node = None\n",
        "\n",
        "  def preppend ( self, value):\n",
        "    if self.head != None:\n",
        "      print(\"esta vacio\")\n",
        "    else:\n",
        "      aux = self.head\n",
        "      self.head = Nodo (value,aux)"
      ],
      "execution_count": 11,
      "outputs": []
    },
    {
      "cell_type": "code",
      "metadata": {
        "colab": {
          "base_uri": "https://localhost:8080/"
        },
        "id": "JSJp_3RGfcSi",
        "outputId": "fa3db9bd-8a00-4ad8-e1a6-503fffd0c1df"
      },
      "source": [
        "lista = LinkedList()\n",
        "\n",
        "if lista.is_empty:\n",
        "  print(\"La lista esta vacia\")\n",
        "else:\n",
        "  print(\"La lista no esta vacia\")\n",
        "\n",
        "lista.append(20)\n",
        "lista.append(110)\n",
        "lista.append(600)\n",
        "lista.append(10)\n",
        "nodo = lista.get_tail()\n",
        "if nodo != None:\n",
        "  print(nodo.data)\n",
        "else: \n",
        "  print(\"La lista esta vacia\")\n",
        "\n",
        "lista.transversal()\n",
        "lista.transversal()\n",
        "lista.preppend(6)\n"
      ],
      "execution_count": 12,
      "outputs": [
        {
          "output_type": "stream",
          "name": "stdout",
          "text": [
            "La lista esta vacia\n",
            "10\n",
            "| 20 | -->| 110 | -->| 600 | -->| 10 | -->\n",
            "| 20 | -->| 110 | -->| 600 | -->| 10 | -->\n",
            "esta vacio\n"
          ]
        }
      ]
    }
  ]
}